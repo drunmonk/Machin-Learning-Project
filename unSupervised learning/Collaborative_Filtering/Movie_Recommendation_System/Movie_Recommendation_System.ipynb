{
 "cells": [
  {
   "cell_type": "code",
   "execution_count": 77,
   "id": "e723fea2",
   "metadata": {},
   "outputs": [],
   "source": [
    "\n",
    "import numpy as np\n",
    "import matplotlib.pyplot as plt\n",
    "import scipy.io"
   ]
  },
  {
   "cell_type": "code",
   "execution_count": 78,
   "id": "a8fe1604",
   "metadata": {},
   "outputs": [],
   "source": [
    "# Cost function for collaborative filtering\n",
    "def coast(x,y,theta,r,lambda_): \n",
    "    h=x.dot(theta.T)\n",
    "    return(1/(2))*np.sum(np.square((h-y)*R))+(lambda_/2)*np.sum(theta**2)+(lambda_/2)*np.sum(x**2)"
   ]
  },
  {
   "cell_type": "code",
   "execution_count": 79,
   "id": "40ca44bc",
   "metadata": {},
   "outputs": [],
   "source": [
    "# Gradient computation for collaborative filtering\n",
    "def gradeint(x,theta,y,r,lambda_):\n",
    "    h=x.dot(theta.T) #\n",
    "    gradeintx = ((h-y)*r).dot(theta) + lambda_*x\n",
    "    gradeinttheta = ((h-y)*r).T.dot(x) + lambda_*theta\n",
    "    return gradeintx,gradeinttheta"
   ]
  },
  {
   "cell_type": "code",
   "execution_count": 80,
   "id": "122b75f9",
   "metadata": {},
   "outputs": [],
   "source": [
    "# Training function for collaborative filtering\n",
    "def train(num_iterations,alpha,lambda_,r,theta,x,y):\n",
    "    cost_history = np.zeros((num_iterations, 1))\n",
    "    for i in range(num_iterations):\n",
    "        x=x-(alpha)*gradeint(x,theta,y,r,lambda_)[0]\n",
    "        theta=theta-(alpha)*gradeint(x,theta,y,r,lambda_)[1]\n",
    "        cost_history[i,0]=coast(x,y,theta,r,lambda_)\n",
    "    return cost_history,cost_history[-1],theta,x"
   ]
  },
  {
   "cell_type": "code",
   "execution_count": 81,
   "id": "b2b9798b",
   "metadata": {},
   "outputs": [],
   "source": [
    "# Function to normalize user ratings\n",
    "\n",
    "def normalizeRatings(Y, R):\n",
    "    m, n = Y.shape\n",
    "    Ymean = np.zeros((m, 1))\n",
    "    Ynorm = np.zeros_like(Y)\n",
    "\n",
    "    for i in range(m):\n",
    "        idx = np.where(R[i, :] == 1)[0]\n",
    "        Ymean[i] = np.mean(Y[i, idx])\n",
    "        Ynorm[i, idx] = Y[i, idx] - Ymean[i]\n",
    "\n",
    "    return Ynorm, Ymean\n",
    "\n",
    "\n"
   ]
  },
  {
   "cell_type": "code",
   "execution_count": 82,
   "id": "94748ab2",
   "metadata": {},
   "outputs": [],
   "source": [
    "# Initialize weights randomly\n",
    "def randInitializeWeights(input_size, output_size):\n",
    "    epsilon_init = 0.12  # You can adjust this value based on your preference\n",
    "    return np.random.rand(output_size, input_size + 1) * 2 * epsilon_init - epsilon_init"
   ]
  },
  {
   "cell_type": "code",
   "execution_count": 83,
   "id": "2995acce",
   "metadata": {},
   "outputs": [],
   "source": [
    "# Make movie recommendations\n",
    "def prediction(thetap,indica):\n",
    "    t=tthetaf[indica,:].reshape((-1,1))\n",
    "    p=fx.dot(t)\n",
    "    p=p+Ymean\n",
    "    return p"
   ]
  },
  {
   "cell_type": "code",
   "execution_count": 84,
   "id": "22205d72",
   "metadata": {},
   "outputs": [],
   "source": [
    "\n",
    "# Load movie list\n",
    "def load_movie_list(filename):\n",
    "    with open(filename, 'r') as file:\n",
    "        movie_list = [line.strip() for line in file]\n",
    "    return movie_list"
   ]
  },
  {
   "cell_type": "code",
   "execution_count": 85,
   "id": "7277654a",
   "metadata": {},
   "outputs": [],
   "source": [
    "# Load data from a .mat file\n",
    "data= scipy.io.loadmat('ex8_movies.mat')"
   ]
  },
  {
   "cell_type": "code",
   "execution_count": 86,
   "id": "94e9b58c",
   "metadata": {},
   "outputs": [],
   "source": [
    "\n",
    "Y=data['Y']"
   ]
  },
  {
   "cell_type": "code",
   "execution_count": 87,
   "id": "f71b2abb",
   "metadata": {},
   "outputs": [],
   "source": [
    "\n",
    "R=data['R']"
   ]
  },
  {
   "cell_type": "code",
   "execution_count": 88,
   "id": "ae558262",
   "metadata": {},
   "outputs": [],
   "source": [
    "# Example user ratings\n",
    "my_ratings =np.zeros((1682,1))"
   ]
  },
  {
   "cell_type": "code",
   "execution_count": 89,
   "id": "f34a5905",
   "metadata": {},
   "outputs": [],
   "source": [
    "\n",
    "my_ratings[0]= 4\n",
    "my_ratings[97] = 2\n",
    "my_ratings[6] = 3\n",
    "my_ratings[11]= 5\n",
    "my_ratings[53] = 4\n",
    "my_ratings[63]= 5\n",
    "my_ratings[65]= 3\n",
    "my_ratings[68] = 5\n",
    "my_ratings[182] = 4\n",
    "my_ratings[225] = 5\n",
    "my_ratings[354]= 5\n"
   ]
  },
  {
   "cell_type": "code",
   "execution_count": 90,
   "id": "379caaa6",
   "metadata": {},
   "outputs": [],
   "source": [
    "# Create a binary matrix indicating which movies were rated\n",
    "myR=(my_ratings>0).astype(int)"
   ]
  },
  {
   "cell_type": "code",
   "execution_count": 91,
   "id": "84c03bf3",
   "metadata": {},
   "outputs": [
    {
     "data": {
      "text/plain": [
       "(1682, 1)"
      ]
     },
     "execution_count": 91,
     "metadata": {},
     "output_type": "execute_result"
    }
   ],
   "source": [
    "\n",
    "my_ratings.shape"
   ]
  },
  {
   "cell_type": "code",
   "execution_count": 92,
   "id": "fea0520c",
   "metadata": {},
   "outputs": [],
   "source": [
    "# Extend the user ratings and binary matrix\n",
    "Y=np.column_stack((Y,my_ratings))"
   ]
  },
  {
   "cell_type": "code",
   "execution_count": 93,
   "id": "20933ac2",
   "metadata": {},
   "outputs": [],
   "source": [
    "\n",
    "R=np.column_stack((R,myR))"
   ]
  },
  {
   "cell_type": "code",
   "execution_count": 94,
   "id": "7febb98b",
   "metadata": {},
   "outputs": [],
   "source": [
    "# Normalize user ratings\n",
    "Ynorm, Ymean = normalizeRatings(Y, R)\n",
    "# Set up variables\n",
    "num_users = Y.shape[1]\n",
    "num_movies =Y.shape[0]\n",
    "num_features = 10"
   ]
  },
  {
   "cell_type": "code",
   "execution_count": 95,
   "id": "08fedb5b",
   "metadata": {},
   "outputs": [],
   "source": [
    "\n",
    "X = randInitializeWeights(num_features,num_movies)\n",
    "Theta = randInitializeWeights(num_features,num_users,)"
   ]
  },
  {
   "cell_type": "code",
   "execution_count": 96,
   "id": "90f8a4af",
   "metadata": {},
   "outputs": [
    {
     "name": "stdout",
     "output_type": "stream",
     "text": [
      "[38710.48373045]\n"
     ]
    }
   ],
   "source": [
    "# Train the collaborative filtering model\n",
    "train(1000,.01,10,R,Theta,X,Ynorm)\n",
    "cost_history,cost_history[-1],tthetaf,fx=train(1000,.01,10,R,Theta,X,Ynorm)\n",
    "\n",
    "print(cost_history[-1])"
   ]
  },
  {
   "cell_type": "code",
   "execution_count": 97,
   "id": "cabfe79b",
   "metadata": {},
   "outputs": [],
   "source": [
    "\n",
    "iteration_history = np.arange(1000).reshape(-1, 1)"
   ]
  },
  {
   "cell_type": "code",
   "execution_count": 98,
   "id": "4d0995b9",
   "metadata": {},
   "outputs": [
    {
     "data": {
      "image/png": "[encoded data removed]",
      "text/plain": [
       "<Figure size 640x480 with 1 Axes>"
      ]
     },
     "metadata": {},
     "output_type": "display_data"
    }
   ],
   "source": [
    "\n",
    "plt.figure()\n",
    "plt.plot(iteration_history, cost_history)\n",
    "plt.xlabel('Number of Iterations')\n",
    "plt.ylabel('Cost Function')\n",
    "plt.title('Number of Iterations vs Cost Function')\n",
    "plt.show()"
   ]
  },
  {
   "cell_type": "code",
   "execution_count": 99,
   "id": "5f9fab3b",
   "metadata": {},
   "outputs": [],
   "source": [
    "# Make movie recommendations\n",
    "p=prediction(tthetaf,943)"
   ]
  },
  {
   "cell_type": "code",
   "execution_count": 100,
   "id": "7975d5d1",
   "metadata": {},
   "outputs": [
    {
     "name": "stdout",
     "output_type": "stream",
     "text": [
      "\n",
      "Top recommendations for you:\n",
      "Predicting rating 4.0 for movie 1201 Marlene Dietrich: Shadow and Light (1996)\n",
      "Predicting rating 3.3 for movie 1500 Santa with Muscles (1996)\n",
      "Predicting rating 3.3 for movie 1599 Someone Else's America (1995)\n",
      "Predicting rating 3.6 for movie 1122 They Made Me a Criminal (1939)\n",
      "Predicting rating 3.4 for movie 1653 Entertaining Angels: The Dorothy Day Story (1996)\n",
      "Predicting rating 3.6 for movie 1293 Star Kid (1997)\n",
      "Predicting rating 3.8 for movie 814 Great Day in Harlem, A (1994)\n",
      "Predicting rating 3.9 for movie 1536 Aiqing wansui (1994)\n",
      "Predicting rating 3.8 for movie 1189 Prefontaine (1997)\n",
      "Predicting rating 3.8 for movie 1467 Saint of Fort Washington, The (1993)\n",
      "\n",
      "\n",
      "Original ratings provided:\n",
      "Rated [4.] for 1 Toy Story (1995)\n",
      "Rated [3.] for 7 Twelve Monkeys (1995)\n",
      "Rated [5.] for 12 Usual Suspects, The (1995)\n",
      "Rated [4.] for 54 Outbreak (1995)\n",
      "Rated [5.] for 64 Shawshank Redemption, The (1994)\n",
      "Rated [3.] for 66 While You Were Sleeping (1995)\n",
      "Rated [5.] for 69 Forrest Gump (1994)\n",
      "Rated [2.] for 98 Silence of the Lambs, The (1991)\n",
      "Rated [4.] for 183 Alien (1979)\n",
      "Rated [5.] for 226 Die Hard 2 (1990)\n",
      "Rated [5.] for 355 Sphere (1998)\n"
     ]
    }
   ],
   "source": [
    "\n",
    "# Specify the filename for your movie list\n",
    "movie_list_filename = 'movie_ids.txt'  # Replace with the actual filename\n",
    "\n",
    "# Load the movie list\n",
    "movieList = load_movie_list(movie_list_filename)\n",
    "\n",
    "sorted_predictions = p.flatten().tolist()\n",
    "\n",
    "# Sort the indices based on the sorted predictions\n",
    "sorted_indices = np.argsort(p.flatten())[::-1]\n",
    "\n",
    "print(\"\\nTop recommendations for you:\")\n",
    "for i in range(10):\n",
    "    j = sorted_indices[i]\n",
    "    rating = \"{:.1f}\".format(sorted_predictions[i])\n",
    "    print(\"Predicting rating {} for movie {}\".format(rating, movieList[j]))\n",
    "\n",
    "print(\"\\n\\nOriginal ratings provided:\")\n",
    "for i, rating in enumerate(my_ratings, start=1):\n",
    "    if rating > 0:\n",
    "        print(\"Rated {} for {}\".format(rating, movieList[i - 1]))\n",
    "\n",
    "\n",
    "\n"
   ]
  },
  {
   "cell_type": "code",
   "execution_count": null,
   "id": "73e8558d",
   "metadata": {},
   "outputs": [],
   "source": []
  }
 ],
 "metadata": {
  "kernelspec": {
   "display_name": "Python 3 (ipykernel)",
   "language": "python",
   "name": "python3"
  },
  "language_info": {
   "codemirror_mode": {
    "name": "ipython",
    "version": 3
   },
   "file_extension": ".py",
   "mimetype": "text/x-python",
   "name": "python",
   "nbconvert_exporter": "python",
   "pygments_lexer": "ipython3",
   "version": "3.11.0"
  }
 },
 "nbformat": 4,
 "nbformat_minor": 5
}
