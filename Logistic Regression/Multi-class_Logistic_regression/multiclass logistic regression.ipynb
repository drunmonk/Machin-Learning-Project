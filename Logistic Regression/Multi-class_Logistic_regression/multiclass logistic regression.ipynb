{
 "cells": [
  {
   "cell_type": "code",
   "execution_count": 1,
   "id": "53065bd7",
   "metadata": {},
   "outputs": [],
   "source": [
    "\n",
    "import numpy as np\n",
    "import matplotlib.pyplot as plt\n",
    "import scipy.io\n",
    "import random as rd\n"
   ]
  },
  {
   "cell_type": "code",
   "execution_count": 2,
   "id": "7effc4eb",
   "metadata": {},
   "outputs": [],
   "source": [
    "\n",
    "# Load data file\n",
    "mat = scipy.io.loadmat('ex3data1.mat')"
   ]
  },
  {
   "cell_type": "code",
   "execution_count": 3,
   "id": "1bca105c",
   "metadata": {},
   "outputs": [],
   "source": [
    "\n",
    "def choice(n):\n",
    "    # Generate two random numbers to choose a random range of examples\n",
    "    random_number1 = rd.randint(0, n)\n",
    "    random_number2 = random_number1 + 20\n",
    "    return random_number1, random_number2"
   ]
  },
  {
   "cell_type": "code",
   "execution_count": 4,
   "id": "c90ab2c2",
   "metadata": {},
   "outputs": [
    {
     "data": {
      "text/plain": [
       "dict_keys(['__header__', '__version__', '__globals__', 'X', 'y'])"
      ]
     },
     "execution_count": 4,
     "metadata": {},
     "output_type": "execute_result"
    }
   ],
   "source": [
    "\n",
    "mat.keys()"
   ]
  },
  {
   "cell_type": "code",
   "execution_count": 5,
   "id": "de5f2b68",
   "metadata": {},
   "outputs": [],
   "source": [
    "\n",
    "def display_data(X, example_width=None):\n",
    "    # Set example_width automatically if not passed in\n",
    "    if example_width is None:\n",
    "        example_width = int(np.round(np.sqrt(X.shape[1])))\n",
    "\n",
    "    # Compute rows, cols\n",
    "    m, n = X.shape\n",
    "    example_height = n // example_width\n",
    "\n",
    "    # Compute number of items to display\n",
    "    display_rows = int(np.floor(np.sqrt(m)))\n",
    "    display_cols = int(np.ceil(m / display_rows))\n",
    "\n",
    "    # Padding between images\n",
    "    pad = 1\n",
    "\n",
    "    # Create a blank display\n",
    "    display_array = -np.ones((pad + display_rows * (example_height + pad),\n",
    "                              pad + display_cols * (example_width + pad)))\n",
    "\n",
    "    curr_ex = 0\n",
    "    for j in range(display_rows):\n",
    "        for i in range(display_cols):\n",
    "            if curr_ex >= m:\n",
    "                break\n",
    "            # Copy the patch\n",
    "            max_val = np.max(np.abs(X[curr_ex, :]))\n",
    "            display_array[pad + j * (example_height + pad) + np.arange(example_height),\n",
    "                          pad + i * (example_width + pad) + np.arange(example_width)[:, np.newaxis]] = \\\n",
    "                          X[curr_ex, :].reshape(example_height, example_width) / max_val\n",
    "            curr_ex += 1\n",
    "        if curr_ex >= m:\n",
    "            break\n",
    "\n",
    "    # Display the image\n",
    "    plt.imshow(display_array, cmap='gray', vmin=-1, vmax=1)\n",
    "    plt.axis('off')\n",
    "    plt.show()"
   ]
  },
  {
   "cell_type": "code",
   "execution_count": 6,
   "id": "0ad5d8a6",
   "metadata": {},
   "outputs": [
    {
     "data": {
      "image/png": "[encoded data removed]",
      "text/plain": [
       "<Figure size 640x480 with 1 Axes>"
      ]
     },
     "metadata": {},
     "output_type": "display_data"
    }
   ],
   "source": [
    "\n",
    "a, b = choice(5000)\n",
    "display_data(mat['X'][a:b])"
   ]
  },
  {
   "cell_type": "code",
   "execution_count": 7,
   "id": "d61e4987",
   "metadata": {},
   "outputs": [],
   "source": [
    "\n",
    "m, n = mat[\"X\"].shape\n",
    "X = np.ones((5000, 401))  # Initialize the X matrix with ones\n",
    "X[:, 1:] = mat[\"X\"]  # Copy the actual data into X"
   ]
  },
  {
   "cell_type": "code",
   "execution_count": 8,
   "id": "d63c1af0",
   "metadata": {},
   "outputs": [],
   "source": [
    "\n",
    "base_array = np.array([10, 1, 2, 3, 4, 5, 6, 7, 8, 9])"
   ]
  },
  {
   "cell_type": "code",
   "execution_count": 9,
   "id": "e5af3332",
   "metadata": {},
   "outputs": [],
   "source": [
    "\n",
    "# Create the matrix by tiling the base array along columns (axis=1)\n",
    "Y = np.tile(base_array, (5000, 1)).T"
   ]
  },
  {
   "cell_type": "code",
   "execution_count": 10,
   "id": "834c5779",
   "metadata": {},
   "outputs": [],
   "source": [
    "\n",
    "# Convert the expected output Y to the form that the model outputs\n",
    "for i in range(5000):\n",
    "    Y[:, i] = (Y[:, i] == mat[\"y\"][i]).astype(int)"
   ]
  },
  {
   "cell_type": "code",
   "execution_count": 11,
   "id": "99f16a9f",
   "metadata": {},
   "outputs": [],
   "source": [
    "\n",
    "yt = Y.T\n",
    "theta = np.zeros((401, 10))  # Initialize the parameter matrix"
   ]
  },
  {
   "cell_type": "code",
   "execution_count": 12,
   "id": "44dea660",
   "metadata": {},
   "outputs": [],
   "source": [
    "\n",
    "# Sigmoid function to model probability\n",
    "\n",
    "def sigmoid(z):\n",
    "    return 1 / (1 + np.exp(-z))"
   ]
  },
  {
   "cell_type": "code",
   "execution_count": 13,
   "id": "4e2b77ba",
   "metadata": {},
   "outputs": [],
   "source": [
    "\n",
    "# Define the cost function for logistic regression\n",
    "def Costfunction(h, yt):\n",
    "    epsilon = 1e-15  # Small constant to avoid division by zero\n",
    "    clipped_h = np.clip(h, epsilon, 1 - epsilon)  # Clip h between epsilon and 1-epsilon\n",
    "    return -(1/m) * np.sum(yt * np.log(clipped_h) + (1 - yt) * np.log(1 - clipped_h))"
   ]
  },
  {
   "cell_type": "code",
   "execution_count": 14,
   "id": "46397a74",
   "metadata": {},
   "outputs": [],
   "source": [
    "\n",
    "# Set hyperparameters for training\n",
    "alpha = 0.01\n",
    "num_iterations = 25000\n",
    "cost_history = np.zeros((num_iterations, 1))\n",
    "iteration_history = np.arange(num_iterations).reshape(-1, 1)"
   ]
  },
  {
   "cell_type": "code",
   "execution_count": 15,
   "id": "3c79466c",
   "metadata": {},
   "outputs": [],
   "source": [
    "\n",
    "# Gradient Descent\n",
    "for i in range(num_iterations):\n",
    "    h = sigmoid(X.dot(theta))  # Calculate hypothesis using sigmoid function\n",
    "    gradient = (1/m) * np.dot(X.T, (h - yt))  # Compute gradient of cost function\n",
    "    theta = theta - (alpha * gradient)  # Update parameters using gradient descent\n",
    "    cost_history[i, 0] = Costfunction(h, yt)  # Calculate and store the cost"
   ]
  },
  {
   "cell_type": "code",
   "execution_count": 16,
   "id": "f5e2f80f",
   "metadata": {},
   "outputs": [
    {
     "data": {
      "image/png": "[encoded data removed]",
      "text/plain": [
       "<Figure size 640x480 with 1 Axes>"
      ]
     },
     "metadata": {},
     "output_type": "display_data"
    }
   ],
   "source": [
    "\n",
    "# Plot cost function over iterations\n",
    "plt.figure()\n",
    "plt.plot(iteration_history, cost_history)\n",
    "plt.xlabel('Number of Iterations')\n",
    "plt.ylabel('Cost Function')\n",
    "plt.title('Number of Iterations vs Cost Function')\n",
    "plt.show()"
   ]
  },
  {
   "cell_type": "code",
   "execution_count": 17,
   "id": "95aec633",
   "metadata": {},
   "outputs": [
    {
     "data": {
      "text/plain": [
       "(10, 5000)"
      ]
     },
     "execution_count": 17,
     "metadata": {},
     "output_type": "execute_result"
    }
   ],
   "source": [
    "# predicting using the model\n",
    "g= theta.T\n",
    "h_prediction = sigmoid(np.dot(g, X.T))\n",
    "prediction = (h_prediction >= 0.5).astype(int)\n",
    "Y.shape"
   ]
  },
  {
   "cell_type": "code",
   "execution_count": 18,
   "id": "3fd73432",
   "metadata": {},
   "outputs": [
    {
     "name": "stdout",
     "output_type": "stream",
     "text": [
      "Percentage of elements that are correct: 97.84%\n"
     ]
    }
   ],
   "source": [
    "\n",
    "# Compare the matrices element-wise and create a boolean matrix indicating differences\n",
    "differences = prediction != Y\n",
    "\n",
    "# Calculate the percentage of differences\n",
    "percentage_wrong = (np.count_nonzero(differences) / differences.size) * 100\n",
    "percentage_correct = 100 - percentage_wrong\n",
    "\n",
    "print(\"Percentage of elements that are correct: {:.2f}%\".format(percentage_correct))"
   ]
  },
  {
   "cell_type": "code",
   "execution_count": null,
   "id": "c8d83a6a",
   "metadata": {},
   "outputs": [],
   "source": []
  }
 ],
 "metadata": {
  "kernelspec": {
   "display_name": "Python 3 (ipykernel)",
   "language": "python",
   "name": "python3"
  },
  "language_info": {
   "codemirror_mode": {
    "name": "ipython",
    "version": 3
   },
   "file_extension": ".py",
   "mimetype": "text/x-python",
   "name": "python",
   "nbconvert_exporter": "python",
   "pygments_lexer": "ipython3",
   "version": "3.11.0"
  }
 },
 "nbformat": 4,
 "nbformat_minor": 5
}
