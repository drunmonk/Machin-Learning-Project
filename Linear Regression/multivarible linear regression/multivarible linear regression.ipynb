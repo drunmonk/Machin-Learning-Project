{
 "cells": [
  {
   "cell_type": "code",
   "execution_count": 778,
   "id": "5ca59611",
   "metadata": {},
   "outputs": [],
   "source": [
    "import numpy as np\n",
    "import matplotlib.pyplot as plt"
   ]
  },
  {
   "cell_type": "code",
   "execution_count": 779,
   "id": "2fa2dec8",
   "metadata": {},
   "outputs": [],
   "source": [
    "# Load data from 'data.txt' file, assuming it has rows of space-separated values\n",
    "data = np.loadtxt('data.txt', dtype=str)"
   ]
  },
  {
   "cell_type": "code",
   "execution_count": 780,
   "id": "f6ffaf75",
   "metadata": {},
   "outputs": [],
   "source": [
    "# Extract the number of samples (m) and features (n) from the data shape\n",
    "m, n = data.shape"
   ]
  },
  {
   "cell_type": "code",
   "execution_count": 781,
   "id": "ed895175",
   "metadata": {},
   "outputs": [],
   "source": [
    "# Initialize input features (x) and target values (y)\n",
    "x = np.zeros((m, 2))\n",
    "y = np.zeros((m, 1))"
   ]
  },
  {
   "cell_type": "code",
   "execution_count": 782,
   "id": "df072c46",
   "metadata": {},
   "outputs": [],
   "source": [
    "# Populate input features and target values from the loaded data\n",
    "x[:, 0:2] = data[:, 0:2]\n",
    "y[:, 0] = data[:, 2]\n"
   ]
  },
  {
   "cell_type": "code",
   "execution_count": 783,
   "id": "e3f3948a",
   "metadata": {},
   "outputs": [],
   "source": [
    "# Initialize theta for gradient descent\n",
    "theta_gd = np.zeros((3, 1))"
   ]
  },
  {
   "cell_type": "code",
   "execution_count": 784,
   "id": "5eab7074",
   "metadata": {},
   "outputs": [],
   "source": [
    "# Feature scaling and mean normalization\n",
    "x1 = np.ones((m, 3))\n",
    "feature_means = x.mean(axis=0)\n",
    "feature_stds = np.std(x, axis=0)\n",
    "x = (x - feature_means) / feature_stds\n",
    "x1[:, 1:3] = x[:, 0:2]"
   ]
  },
  {
   "cell_type": "code",
   "execution_count": 785,
   "id": "b62f8a75",
   "metadata": {},
   "outputs": [],
   "source": [
    "# Gradient descent parameters\n",
    "alpha = 0.01\n",
    "num_iterations = 400\n",
    "cost_history = np.zeros((num_iterations, 1))\n",
    "iteration_numbers = np.zeros((num_iterations, 1))"
   ]
  },
  {
   "cell_type": "code",
   "execution_count": 786,
   "id": "a0d9f879",
   "metadata": {},
   "outputs": [],
   "source": [
    "# Perform gradient descent\n",
    "for i in range(num_iterations):\n",
    "    h = (x1.dot(theta_gd)) - y\n",
    "    theta_gd = theta_gd - ((alpha / m) * (x1.T.dot(h)))\n",
    "    cost = np.sum(np.square(h)) / (2 * m)\n",
    "    cost_history[i, 0] = cost\n",
    "    iteration_numbers[i, 0] = i"
   ]
  },
  {
   "cell_type": "code",
   "execution_count": 787,
   "id": "74c5456c",
   "metadata": {},
   "outputs": [
    {
     "name": "stdout",
     "output_type": "stream",
     "text": [
      "Learned theta = [[334302.06399328]\n",
      " [ 99411.44947359]\n",
      " [  3267.01285407]]\n",
      "Final cost function value = 2106213044.760492\n"
     ]
    }
   ],
   "source": [
    "# Print the learned theta and final cost function value\n",
    "print(f\"Learned theta = {theta_gd}\")\n",
    "final_cost = cost_history[-1, 0]\n",
    "print(f\"Final cost function value = {final_cost}\")"
   ]
  },
  {
   "cell_type": "code",
   "execution_count": 788,
   "id": "da546c4f",
   "metadata": {},
   "outputs": [
    {
     "data": {
      "image/png": "[encoded data removed]",
      "text/plain": [
       "<Figure size 640x480 with 1 Axes>"
      ]
     },
     "metadata": {},
     "output_type": "display_data"
    }
   ],
   "source": [
    "# Plot the cost function convergence\n",
    "plt.plot(iteration_numbers, cost_history)\n",
    "plt.xlabel(\"Iteration\")\n",
    "plt.ylabel(\"Cost Function\")\n",
    "plt.title(\"Cost Function Convergence\")\n",
    "plt.show()"
   ]
  },
  {
   "cell_type": "code",
   "execution_count": 789,
   "id": "7ea59ad0",
   "metadata": {},
   "outputs": [],
   "source": [
    "# Assuming you have trained theta and normalized input features\n",
    "normalized_input = np.array([1, (1650 - feature_means[0]) / feature_stds[0], (3 - feature_means[1]) / feature_stds[1]])"
   ]
  },
  {
   "cell_type": "code",
   "execution_count": 790,
   "id": "11d9dba1",
   "metadata": {},
   "outputs": [],
   "source": [
    "# Calculate the predicted price using the learned theta from gradient descent\n",
    "predicted_price_gd = np.dot(normalized_input, theta_gd)"
   ]
  },
  {
   "cell_type": "code",
   "execution_count": 791,
   "id": "94a9de17",
   "metadata": {},
   "outputs": [
    {
     "name": "stdout",
     "output_type": "stream",
     "text": [
      "Predicted price for 1650 sq ft and 3 rooms (Gradient Descent): 289221.55\n"
     ]
    }
   ],
   "source": [
    "print(f\"Predicted price for 1650 sq ft and 3 rooms (Gradient Descent): {predicted_price_gd[0]:.2f}\")"
   ]
  },
  {
   "cell_type": "code",
   "execution_count": 792,
   "id": "8355190e",
   "metadata": {},
   "outputs": [],
   "source": [
    "# Normal Equation method for theta calculation\n",
    "X_matrix = np.ones((m, 3))\n",
    "X_matrix[:, 1:3] = data[:, 0:2]\n",
    "X_transpose = X_matrix.T\n",
    "theta_normal = np.linalg.inv(X_transpose.dot(X_matrix)).dot(X_transpose).dot(y)"
   ]
  },
  {
   "cell_type": "code",
   "execution_count": 793,
   "id": "f57b226b",
   "metadata": {},
   "outputs": [
    {
     "name": "stdout",
     "output_type": "stream",
     "text": [
      "Predicted price for 1650 sq ft and 3 rooms (Normal Equation): 293081.46\n"
     ]
    }
   ],
   "source": [
    "\n",
    "# Calculate the predicted price using the learned theta from the normal equation\n",
    "input_for_normal_eq = np.array([1, 1650, 3])\n",
    "predicted_price_normal = np.dot(input_for_normal_eq, theta_normal)\n",
    "\n",
    "print(f\"Predicted price for 1650 sq ft and 3 rooms (Normal Equation): {predicted_price_normal[0]:.2f}\")"
   ]
  },
  {
   "cell_type": "code",
   "execution_count": null,
   "id": "d4e29aca",
   "metadata": {},
   "outputs": [],
   "source": []
  }
 ],
 "metadata": {
  "kernelspec": {
   "display_name": "Python 3 (ipykernel)",
   "language": "python",
   "name": "python3"
  },
  "language_info": {
   "codemirror_mode": {
    "name": "ipython",
    "version": 3
   },
   "file_extension": ".py",
   "mimetype": "text/x-python",
   "name": "python",
   "nbconvert_exporter": "python",
   "pygments_lexer": "ipython3",
   "version": "3.11.0"
  }
 },
 "nbformat": 4,
 "nbformat_minor": 5
}
