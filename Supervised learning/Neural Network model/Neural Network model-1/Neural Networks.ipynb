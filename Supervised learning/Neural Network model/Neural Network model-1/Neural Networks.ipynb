{
 "cells": [
  {
   "cell_type": "code",
   "execution_count": 191,
   "id": "506cda05",
   "metadata": {},
   "outputs": [],
   "source": [
    "import numpy as np\n",
    "import matplotlib.pyplot as plt\n",
    "import scipy.io\n",
    "import random as rd\n"
   ]
  },
  {
   "cell_type": "code",
   "execution_count": 192,
   "id": "75006766",
   "metadata": {},
   "outputs": [],
   "source": [
    "\n",
    "# Load the weights\n",
    "weight = scipy.io.loadmat('ex3weights.mat')\n"
   ]
  },
  {
   "cell_type": "code",
   "execution_count": 193,
   "id": "3ec43720",
   "metadata": {},
   "outputs": [
    {
     "name": "stdout",
     "output_type": "stream",
     "text": [
      "(25, 401)\n",
      "(10, 26)\n"
     ]
    }
   ],
   "source": [
    "\n",
    "#saparating the weights \n",
    "weight.keys()\n",
    "theta1=weight[\"Theta1\"]\n",
    "theta2=weight[\"Theta2\"]\n",
    "print(theta1.shape)\n",
    "print(theta2.shape)"
   ]
  },
  {
   "cell_type": "code",
   "execution_count": 194,
   "id": "42a6bacf",
   "metadata": {},
   "outputs": [],
   "source": [
    "\n",
    "# Load the data file\n",
    "mat= scipy.io.loadmat('ex3data1.mat')\n"
   ]
  },
  {
   "cell_type": "code",
   "execution_count": 195,
   "id": "f2da2158",
   "metadata": {},
   "outputs": [],
   "source": [
    "\n",
    "def choice (n):\n",
    "   # Generate one  random numbers\n",
    "    random_number1 = rd.randint(0, n)\n",
    "    random_number2 = random_number1+20\n",
    "    return random_number1,random_number2\n"
   ]
  },
  {
   "cell_type": "code",
   "execution_count": 196,
   "id": "0f37ae85",
   "metadata": {},
   "outputs": [
    {
     "data": {
      "text/plain": [
       "dict_keys(['__header__', '__version__', '__globals__', 'X', 'y'])"
      ]
     },
     "execution_count": 196,
     "metadata": {},
     "output_type": "execute_result"
    }
   ],
   "source": [
    "\n",
    "mat.keys()"
   ]
  },
  {
   "cell_type": "code",
   "execution_count": 197,
   "id": "0da99b73",
   "metadata": {},
   "outputs": [
    {
     "data": {
      "image/png": "[encoded data removed]",
      "text/plain": [
       "<Figure size 640x480 with 1 Axes>"
      ]
     },
     "metadata": {},
     "output_type": "display_data"
    }
   ],
   "source": [
    "\n",
    "def display_data(X, example_width=None):\n",
    "    # Set example_width automatically if not passed in\n",
    "    if example_width is None:\n",
    "        example_width = int(np.round(np.sqrt(X.shape[1])))\n",
    "\n",
    "    # Compute rows, cols\n",
    "    m, n = X.shape\n",
    "    example_height = n // example_width\n",
    "\n",
    "    # Compute number of items to display\n",
    "    display_rows = int(np.floor(np.sqrt(m)))\n",
    "    display_cols = int(np.ceil(m / display_rows))\n",
    "\n",
    "    # Between images padding\n",
    "    pad = 1\n",
    "\n",
    "    # Setup blank display\n",
    "    display_array = -np.ones((pad + display_rows * (example_height + pad),\n",
    "                              pad + display_cols * (example_width + pad)))\n",
    "\n",
    "    # Copy each example into a patch on the display array\n",
    "    curr_ex = 0\n",
    "    for j in range(display_rows):\n",
    "        for i in range(display_cols):\n",
    "            if curr_ex >= m:\n",
    "                break\n",
    "            # Copy the patch\n",
    "            # Get the max value of the patch\n",
    "            max_val = np.max(np.abs(X[curr_ex, :]))\n",
    "            display_array[pad + j * (example_height + pad) + np.arange(example_height),\n",
    "                          pad + i * (example_width + pad) + np.arange(example_width)[:, np.newaxis]] = \\\n",
    "                          X[curr_ex, :].reshape(example_height, example_width) / max_val\n",
    "            curr_ex += 1\n",
    "        if curr_ex >= m:\n",
    "            break\n",
    "\n",
    "    # Display Image\n",
    "    plt.imshow(display_array, cmap='gray', vmin=-1, vmax=1)\n",
    "    plt.axis('off')\n",
    "    plt.show()\n",
    "\n",
    "a,b=choice(5000)\n",
    "display_data(mat['X'][a:b])\n",
    "\n"
   ]
  },
  {
   "cell_type": "code",
   "execution_count": 198,
   "id": "fe8bfba8",
   "metadata": {},
   "outputs": [],
   "source": [
    "\n",
    "m,n=mat[\"X\"].shape"
   ]
  },
  {
   "cell_type": "code",
   "execution_count": 199,
   "id": "429038d8",
   "metadata": {},
   "outputs": [],
   "source": [
    "\n",
    "X=np.ones((5000,401))"
   ]
  },
  {
   "cell_type": "code",
   "execution_count": 200,
   "id": "8515e38f",
   "metadata": {},
   "outputs": [],
   "source": [
    "\n",
    "X[:,1:]=mat[\"X\"]"
   ]
  },
  {
   "cell_type": "code",
   "execution_count": 201,
   "id": "8f904f51",
   "metadata": {},
   "outputs": [],
   "source": [
    "\n",
    "# Sigmoid function to model probability\n",
    "def sigmoid(z):\n",
    "    return 1 / (1 + np.exp(-z))"
   ]
  },
  {
   "cell_type": "code",
   "execution_count": 202,
   "id": "b1812a71",
   "metadata": {},
   "outputs": [],
   "source": [
    "\n",
    "base1=np.ones((1,26))"
   ]
  },
  {
   "cell_type": "code",
   "execution_count": 203,
   "id": "9119221d",
   "metadata": {},
   "outputs": [],
   "source": [
    "\n",
    "# Neural Network model\n",
    "def model(input,N):\n",
    "    layer1=sigmoid(input.dot(theta1.T))\n",
    "    if N==1:\n",
    "        base1[0,1:]=layer1\n",
    "        layer2=sigmoid(base1.dot(theta2.T))\n",
    "    else:\n",
    "        base2[:,1:]=layer1 \n",
    "        layer2=sigmoid(base2.dot(theta2.T))\n",
    "    return layer2.T"
   ]
  },
  {
   "cell_type": "code",
   "execution_count": 204,
   "id": "55f2c035",
   "metadata": {},
   "outputs": [],
   "source": [
    "\n",
    "base_array1 = np.array([1, 2, 3, 4, 5, 6, 7, 8, 9,0])"
   ]
  },
  {
   "cell_type": "code",
   "execution_count": 205,
   "id": "cc078b23",
   "metadata": {},
   "outputs": [],
   "source": [
    "\n",
    "#transforming model prediction according to the need \n",
    "def predict(input,N):\n",
    "    output=model(input,N)\n",
    "    if N==1:\n",
    "        j=((output)>=.5).astype(int)\n",
    "        for i in range(10):\n",
    "            if j[i]== 1:\n",
    "                return base_array1[i]\n",
    "    else:\n",
    "        output=model(input,N)\n",
    "        j=((output)>=.5).astype(int)\n",
    "        return j"
   ]
  },
  {
   "cell_type": "code",
   "execution_count": 206,
   "id": "9f33e2ff",
   "metadata": {},
   "outputs": [],
   "source": [
    "\n",
    "def choice (n):\n",
    "   # define the range\n",
    "   # Generate two random numbers\n",
    "    random_number1 = rd.randint(0, n)\n",
    "    return random_number1\n"
   ]
  },
  {
   "cell_type": "code",
   "execution_count": 207,
   "id": "85773a66",
   "metadata": {},
   "outputs": [
    {
     "data": {
      "image/png": "[encoded data removed]",
      "text/plain": [
       "<Figure size 640x480 with 1 Axes>"
      ]
     },
     "metadata": {},
     "output_type": "display_data"
    },
    {
     "name": "stdout",
     "output_type": "stream",
     "text": [
      "the computer predict the image is of 1\n",
      "\n",
      "\n"
     ]
    }
   ],
   "source": [
    "\n",
    "# display a image from the data set and the trained model prediction of the same image \n",
    "def display_example(X, example_index, example_width=None):\n",
    "    if example_width is None:\n",
    "        example_width = int(np.round(np.sqrt(X.shape[1])))\n",
    "\n",
    "    m, n = X.shape\n",
    "    example_height = n // example_width\n",
    "\n",
    "    # Compute number of items to display\n",
    "    display_cols = int(np.ceil(m))\n",
    "\n",
    "    # Between images padding\n",
    "    pad = 1\n",
    "\n",
    "    # Setup blank display\n",
    "    display_array = -np.ones((pad + example_height, pad + example_width))\n",
    "\n",
    "    # Copy the example into the display array\n",
    "    example = X[example_index, :].reshape(example_height, example_width)\n",
    "    max_val = np.max(np.abs(example))\n",
    "    display_array[pad + np.arange(example_height), pad + np.arange(example_width)[:, np.newaxis]] = example / max_val\n",
    "\n",
    "    # Display Image\n",
    "    plt.imshow(display_array, cmap='gray', vmin=-1, vmax=1)\n",
    "    plt.axis('off')\n",
    "    plt.show()\n",
    "\n",
    "a=choice(5000)\n",
    "display_example(mat['X'],a)  \n",
    "\n",
    "computerprediction=predict(X[a],1)\n",
    "print(f\"the computer predict the image is of {computerprediction}\" )\n",
    "print(\"\\n\")\n"
   ]
  },
  {
   "cell_type": "code",
   "execution_count": 208,
   "id": "2d5b743a",
   "metadata": {},
   "outputs": [],
   "source": [
    "\n",
    "base_array2= np.array([1, 2, 3, 4, 5, 6, 7, 8, 9,10])\n",
    "\n",
    "# Create the matrix by tiling the base array along columns (axis=1)\n",
    "Y= np.tile(base_array2, (5000, 1)).T"
   ]
  },
  {
   "cell_type": "code",
   "execution_count": 209,
   "id": "da9b9ab1",
   "metadata": {},
   "outputs": [
    {
     "data": {
      "text/plain": [
       "array([ 1,  2,  3,  4,  5,  6,  7,  8,  9, 10])"
      ]
     },
     "execution_count": 209,
     "metadata": {},
     "output_type": "execute_result"
    }
   ],
   "source": [
    "\n",
    "Y[:,0]"
   ]
  },
  {
   "cell_type": "code",
   "execution_count": 210,
   "id": "56d57678",
   "metadata": {},
   "outputs": [],
   "source": [
    "\n",
    "#converting the excepted out put Yto the form that model outputes \n",
    "for i in range (5000):\n",
    "    Y[:,i]=(Y[:,i]==mat[\"y\"][i]).astype(int)"
   ]
  },
  {
   "cell_type": "code",
   "execution_count": 211,
   "id": "b4fb0873",
   "metadata": {},
   "outputs": [],
   "source": [
    "\n",
    "base2=np.ones((5000,26))"
   ]
  },
  {
   "cell_type": "code",
   "execution_count": 212,
   "id": "1a2e60ad",
   "metadata": {},
   "outputs": [],
   "source": [
    "\n",
    "#model prediction on the dataset it is trained on \n",
    "computerprediction=predict(X,2)"
   ]
  },
  {
   "cell_type": "code",
   "execution_count": 213,
   "id": "c975285c",
   "metadata": {},
   "outputs": [
    {
     "data": {
      "text/plain": [
       "(10, 5000)"
      ]
     },
     "execution_count": 213,
     "metadata": {},
     "output_type": "execute_result"
    }
   ],
   "source": [
    "\n",
    "computerprediction.shape"
   ]
  },
  {
   "cell_type": "code",
   "execution_count": 214,
   "id": "2933f374",
   "metadata": {},
   "outputs": [
    {
     "name": "stdout",
     "output_type": "stream",
     "text": [
      "Percentage of elements that are correct: 99.34%\n"
     ]
    }
   ],
   "source": [
    "\n",
    "\n",
    "# Compare the matrices element-wise and create a boolean matrix indicating differences\n",
    "differences = computerprediction!= Y\n",
    "\n",
    "# Calculate the percentage of differences\n",
    "percentage_wrong = (np.count_nonzero(differences) / differences.size) * 100\n",
    "percentage_correct=100-percentage_wrong\n",
    "\n",
    "print(\"Percentage of elements that are correct: {:.2f}%\".format(percentage_correct))\n"
   ]
  },
  {
   "cell_type": "code",
   "execution_count": null,
   "id": "7907e9e0",
   "metadata": {},
   "outputs": [],
   "source": []
  }
 ],
 "metadata": {
  "kernelspec": {
   "display_name": "Python 3 (ipykernel)",
   "language": "python",
   "name": "python3"
  },
  "language_info": {
   "codemirror_mode": {
    "name": "ipython",
    "version": 3
   },
   "file_extension": ".py",
   "mimetype": "text/x-python",
   "name": "python",
   "nbconvert_exporter": "python",
   "pygments_lexer": "ipython3",
   "version": "3.11.0"
  }
 },
 "nbformat": 4,
 "nbformat_minor": 5
}
