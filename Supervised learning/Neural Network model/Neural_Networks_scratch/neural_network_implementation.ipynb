{
 "cells": [
  {
   "cell_type": "code",
   "execution_count": 392,
   "id": "27ae83cf",
   "metadata": {},
   "outputs": [],
   "source": [
    "\n",
    "import numpy as np\n",
    "import matplotlib.pyplot as plt\n",
    "import scipy.io\n",
    "import random as rd\n",
    "from numpy.linalg import norm"
   ]
  },
  {
   "cell_type": "code",
   "execution_count": 393,
   "id": "3bc10995",
   "metadata": {},
   "outputs": [],
   "source": [
    "\n",
    "# Load the data file\n",
    "mat= scipy.io.loadmat('ex4data1.mat')\n"
   ]
  },
  {
   "cell_type": "code",
   "execution_count": 394,
   "id": "d3612716",
   "metadata": {},
   "outputs": [],
   "source": [
    "\n",
    "def choice (n):\n",
    "   # Generate one  random numbers\n",
    "    random_number1 = rd.randint(0, n)\n",
    "    random_number2 = random_number1+20\n",
    "    return random_number1,random_number2\n"
   ]
  },
  {
   "cell_type": "code",
   "execution_count": 395,
   "id": "b5afe5fa",
   "metadata": {},
   "outputs": [
    {
     "data": {
      "image/png": "[encoded data removed]",
      "text/plain": [
       "<Figure size 640x480 with 1 Axes>"
      ]
     },
     "metadata": {},
     "output_type": "display_data"
    }
   ],
   "source": [
    "\n",
    "def display_data(X, example_width=None):\n",
    "    # Set example_width automatically if not passed in\n",
    "    if example_width is None:\n",
    "        example_width = int(np.round(np.sqrt(X.shape[1])))\n",
    "\n",
    "    # Compute rows, cols\n",
    "    m, n = X.shape\n",
    "    example_height = n // example_width\n",
    "\n",
    "    # Compute number of items to display\n",
    "    display_rows = int(np.floor(np.sqrt(m)))\n",
    "    display_cols = int(np.ceil(m / display_rows))\n",
    "\n",
    "    # Between images padding\n",
    "    pad = 1\n",
    "\n",
    "    # Setup blank display\n",
    "    display_array = -np.ones((pad + display_rows * (example_height + pad),\n",
    "                              pad + display_cols * (example_width + pad)))\n",
    "\n",
    "    # Copy each example into a patch on the display array\n",
    "    curr_ex = 0\n",
    "    for j in range(display_rows):\n",
    "        for i in range(display_cols):\n",
    "            if curr_ex >= m:\n",
    "                break\n",
    "            # Copy the patch\n",
    "            # Get the max value of the patch\n",
    "            max_val = np.max(np.abs(X[curr_ex, :]))\n",
    "            display_array[pad + j * (example_height + pad) + np.arange(example_height),\n",
    "                          pad + i * (example_width + pad) + np.arange(example_width)[:, np.newaxis]] = \\\n",
    "                          X[curr_ex, :].reshape(example_height, example_width) / max_val\n",
    "            curr_ex += 1\n",
    "        if curr_ex >= m:\n",
    "            break\n",
    "\n",
    "    # Display Image\n",
    "    plt.imshow(display_array, cmap='gray', vmin=-1, vmax=1)\n",
    "    plt.axis('off')\n",
    "    plt.show()\n",
    "\n",
    "a,b=choice(5000)\n",
    "display_data(mat['X'][a:b])\n",
    "\n"
   ]
  },
  {
   "cell_type": "code",
   "execution_count": 396,
   "id": "25909c21",
   "metadata": {},
   "outputs": [],
   "source": [
    "\n",
    "m,n=mat[\"X\"].shape"
   ]
  },
  {
   "cell_type": "code",
   "execution_count": 397,
   "id": "db71de84",
   "metadata": {},
   "outputs": [],
   "source": [
    "\n",
    "base_array2= np.array([1, 2, 3, 4, 5, 6, 7, 8, 9,10])\n",
    "\n",
    "# Create the matrix by tiling the base array along columns (axis=1)\n",
    "Y= np.tile(base_array2, (5000, 1)).T"
   ]
  },
  {
   "cell_type": "code",
   "execution_count": 398,
   "id": "ed0558a5",
   "metadata": {},
   "outputs": [],
   "source": [
    "\n",
    "#converting the excepted out put Yto the form that model outputes \n",
    "for i in range (5000):\n",
    "    Y[:,i]=(Y[:,i]==mat[\"y\"][i]).astype(int)"
   ]
  },
  {
   "cell_type": "code",
   "execution_count": 399,
   "id": "ff149f46",
   "metadata": {},
   "outputs": [
    {
     "data": {
      "text/plain": [
       "(10, 5000)"
      ]
     },
     "execution_count": 399,
     "metadata": {},
     "output_type": "execute_result"
    }
   ],
   "source": [
    "Y.shape"
   ]
  },
  {
   "cell_type": "code",
   "execution_count": 400,
   "id": "95f0ba31",
   "metadata": {},
   "outputs": [
    {
     "data": {
      "text/plain": [
       "array([0, 0, 0, 0, 0, 0, 0, 0, 0, 1])"
      ]
     },
     "execution_count": 400,
     "metadata": {},
     "output_type": "execute_result"
    }
   ],
   "source": [
    "Y[:,0]"
   ]
  },
  {
   "cell_type": "code",
   "execution_count": 401,
   "id": "32f3620d",
   "metadata": {},
   "outputs": [
    {
     "data": {
      "text/plain": [
       "(10, 5000)"
      ]
     },
     "execution_count": 401,
     "metadata": {},
     "output_type": "execute_result"
    }
   ],
   "source": [
    "Y.shape"
   ]
  },
  {
   "cell_type": "code",
   "execution_count": 402,
   "id": "b168ccaf",
   "metadata": {},
   "outputs": [],
   "source": [
    "\n",
    "# Sigmoid function to model probability\n",
    "def sigmoid(z):\n",
    "    return 1 / (1 + np.exp(-z))"
   ]
  },
  {
   "cell_type": "code",
   "execution_count": 403,
   "id": "a5ba663d",
   "metadata": {},
   "outputs": [],
   "source": [
    "\n",
    "#Cost function to calculate the error in the prediction\n",
    "def Costfunction(h, y):\n",
    "    return -(1/m) * np.sum((y) * np.log(h) + (1 - (y)) * np.log(1 -h))"
   ]
  },
  {
   "cell_type": "code",
   "execution_count": 404,
   "id": "9e17a04d",
   "metadata": {},
   "outputs": [],
   "source": [
    "\n",
    "#RegCost function to calculate the Regularized error in the prediction\n",
    "def RegCostfunction(h, y,lm,theta1,theta2):\n",
    "     # Clip h between epsilon and 1-epsilon\n",
    "    return -(1/m) * np.sum((y) * np.log(h) + (1 - (y)) * np.log(1 - h))+(lm/(2*m))*(np.sum(np.square(theta1[1:,: ]))+np.sum(np.square(theta2[:,1: ])))"
   ]
  },
  {
   "cell_type": "code",
   "execution_count": 405,
   "id": "a5e7f565",
   "metadata": {},
   "outputs": [],
   "source": [
    "\n",
    "#Forward propagation computes the activation of each layer and provides the correct answer based on the switch \n",
    "def forward_propagation(input,theta1,theta2,switch_):\n",
    "    m=input.shape[0]                                  \n",
    "    a1=np.column_stack((np.ones(m),input))\n",
    "    z2=a1.dot(theta1)\n",
    "    a2=np.column_stack((np.ones(m),sigmoid(z2)))\n",
    "    z3=a2.dot(theta2.T)\n",
    "    a3=sigmoid(z3)\n",
    "    # 5000X 401 . 401X25 = 5000X25\n",
    "      # 5000X25\n",
    "     # 5000X26\n",
    "     # 5000X26 . 26x10  = 5000x10\n",
    "      #5000x10\n",
    "    if switch_==1:\n",
    "        return a3.T\n",
    "    else:\n",
    "        return a1,z2,a2,z3,a3\n"
   ]
  },
  {
   "cell_type": "code",
   "execution_count": 406,
   "id": "114fc974",
   "metadata": {},
   "outputs": [],
   "source": [
    "\n",
    "#sigmoidGradient computes the gradient of the sigmoid function\n",
    "def sigmoidGradient(z):\n",
    "         g=sigmoid(z)\n",
    "         return g*(1-g)"
   ]
  },
  {
   "cell_type": "code",
   "execution_count": 407,
   "id": "4783cb0d",
   "metadata": {},
   "outputs": [],
   "source": [
    "\n",
    "#randInitializeWeights will initialize the weights randomly to break the symmetry\n",
    "def randInitializeWeights(input_size, output_size):\n",
    "    epsilon_init = 0.12  # You can adjust this value based on your preference\n",
    "    return np.random.rand(output_size, input_size + 1) * 2 * epsilon_init - epsilon_init\n",
    "\n"
   ]
  },
  {
   "cell_type": "code",
   "execution_count": 408,
   "id": "f455eceb",
   "metadata": {},
   "outputs": [],
   "source": [
    "\n",
    "#Compute the gradient using forward propagation and backward propagation \n",
    "def gradeint(theta1,theta2,input,Y,lm):\n",
    "    #forward_propagation\n",
    "    a1,z2,a2,z3,a3 = forward_propagation(input,theta1,theta2,2)\n",
    "    #backword propagation\n",
    "    m,n=input.shape\n",
    "    seta3=a3-(Y.T)# 5000x10\n",
    "    seta2=(theta2[:,1:].T).dot(seta3.T)*sigmoidGradient(z2.T) #25x10 .10x5000 =25 x 5000  \n",
    "    grade2=(1/m)*((seta3.T).dot(a2))# 10x5000 . 5000X26 =10X26\n",
    "    grade2[:,1:]=grade2[:,1:]+(lm/m)*theta2[:,1:]\n",
    "    grade1=(1/m)*((seta2).dot(a1)) # 25X50000  .5000X401  = 25X401\n",
    "    grade1[:,1:]=grade1[:,1:]+(lm/m)*theta1.T[:,1:]\n",
    "    return grade2,grade1"
   ]
  },
  {
   "cell_type": "code",
   "execution_count": 409,
   "id": "ac515dfd",
   "metadata": {},
   "outputs": [],
   "source": [
    "\n",
    "#This function is used to verify that the gradient computed using backpropagation is correct; it is not used during training.\n",
    "def computeNumericalGradient(input, theta1, theta2, Y, lm,m,epsilon=1e-4):\n",
    "    num_grad1 = np.zeros_like(theta1)\n",
    "    num_grad2 = np.zeros_like(theta2)\n",
    "    for i in range(theta1.shape[0]):\n",
    "        for j in range(theta1.shape[1]):\n",
    "            theta1_plus = theta1.copy()\n",
    "            theta1_minus = theta1.copy()\n",
    "            theta1_plus[i, j] += epsilon\n",
    "            theta1_minus[i, j] -= epsilon \n",
    "\n",
    "            J_plus = RegCostfunction(forward_propagation(input, theta1_plus, theta2,1),Y,lm,theta1_plus,theta2)\n",
    "            J_minus = RegCostfunction(forward_propagation(input, theta1_minus, theta2,1),Y,lm,theta1_minus,theta2)\n",
    "\n",
    "            num_grad1[i, j] = (J_plus - J_minus) / (2 * epsilon)\n",
    "\n",
    "    for i in range(theta2.shape[0]):\n",
    "        for j in range(theta2.shape[1]):\n",
    "            theta2_plus = theta2.copy()\n",
    "            theta2_minus = theta2.copy()\n",
    "\n",
    "            theta2_plus[i, j] += epsilon\n",
    "            theta2_minus[i, j] -= epsilon\n",
    "\n",
    "            J_plus = RegCostfunction(forward_propagation(input, theta1, theta2_plus,1),Y,lm,theta1,theta2_plus)\n",
    "            J_minus = RegCostfunction(forward_propagation(input, theta1, theta2_minus,1),Y,lm,theta1,theta2_minus)\n",
    "\n",
    "            num_grad2[i, j] = (J_plus - J_minus) / (2 * epsilon)\n",
    "\n",
    "    return num_grad1, num_grad2\n"
   ]
  },
  {
   "cell_type": "markdown",
   "id": "b2370ea6",
   "metadata": {},
   "source": [
    "num_grad1, num_grad2 = computeNumericalGradient(mat[\"X\"],theta1,theta2,Y,1,m)\n"
   ]
  },
  {
   "cell_type": "markdown",
   "id": "da538061",
   "metadata": {},
   "source": [
    "grade1,grade2=gradeint(theta1,theta2,mat[\"X\"],Y,lm)"
   ]
  },
  {
   "cell_type": "markdown",
   "id": "f5278dc4",
   "metadata": {},
   "source": [
    "roll_num_grad1= num_grad1.reshape(-1, 1)\n"
   ]
  },
  {
   "cell_type": "markdown",
   "id": "3dfd7fb3",
   "metadata": {},
   "source": [
    "roll_grad1=(grade1.T).reshape(-1,1)\n"
   ]
  },
  {
   "cell_type": "markdown",
   "id": "589ad2e4",
   "metadata": {},
   "source": [
    "roll_num_grad2= num_grad2.reshape(-1, 1)\n",
    "roll_grad2=(grade2).reshape(-1,1)"
   ]
  },
  {
   "cell_type": "markdown",
   "id": "01e50709",
   "metadata": {},
   "source": [
    "h=np.concatenate((roll_num_grad1,roll_num_grad2))\n",
    "t=np.concatenate((roll_grad1,roll_grad2))"
   ]
  },
  {
   "cell_type": "markdown",
   "id": "c2879b0c",
   "metadata": {},
   "source": [
    "norm(h-t)/norm(h+t)#9.421474999634163e-11"
   ]
  },
  {
   "cell_type": "code",
   "execution_count": 410,
   "id": "3d24d726",
   "metadata": {},
   "outputs": [],
   "source": [
    "\n",
    "#This function is used to train the model and find the optimal value of the weights (theat)\n",
    "def training(theta1,theta2,input,Y,num_iterations,alpha,lm,cost_history):\n",
    "    for i in range(num_iterations): \n",
    "        grade2,grade1= gradeint(theta1,theta2,input,Y,lm)\n",
    "        theta1=theta1-alpha*grade1.T\n",
    "        theta2=theta2-alpha*grade2\n",
    "        cost_history[i, 0] = RegCostfunction(forward_propagation(input, theta1, theta2,1),Y,lm,theta1,theta2)\n",
    "    return theta1,theta2,cost_history"
   ]
  },
  {
   "cell_type": "code",
   "execution_count": 411,
   "id": "63498e10",
   "metadata": {},
   "outputs": [],
   "source": [
    "\n",
    "#Initializing required parameters.\n",
    "lm=1\n",
    "alpha =.1\n",
    "num_iterations = 1000\n",
    "cost_history = np.zeros((num_iterations, 1))\n",
    "iteration_history = np.arange(num_iterations).reshape(-1, 1)"
   ]
  },
  {
   "cell_type": "code",
   "execution_count": 412,
   "id": "6ae394e7",
   "metadata": {},
   "outputs": [],
   "source": [
    "#Initializing  theta's\n",
    "theta1=randInitializeWeights(24, 401)\n",
    "theta2=randInitializeWeights(25,10)"
   ]
  },
  {
   "cell_type": "code",
   "execution_count": 413,
   "id": "ecabba4f",
   "metadata": {},
   "outputs": [],
   "source": [
    "\n",
    "#model training\n",
    "thataf1,thetaf2,cost_histaory=training(theta1,theta2,mat[\"X\"],Y,num_iterations,alpha,lm,cost_history)"
   ]
  },
  {
   "cell_type": "code",
   "execution_count": 415,
   "id": "e7c70ee6",
   "metadata": {},
   "outputs": [
    {
     "name": "stdout",
     "output_type": "stream",
     "text": [
      "the final error of the model =  1.2286142788715848\n"
     ]
    }
   ],
   "source": [
    "print(\"the final error of the model = \",cost_histaory[-1,0])"
   ]
  },
  {
   "cell_type": "code",
   "execution_count": 416,
   "id": "40873251",
   "metadata": {},
   "outputs": [
    {
     "data": {
      "image/png": "[encoded data removed]",
      "text/plain": [
       "<Figure size 640x480 with 1 Axes>"
      ]
     },
     "metadata": {},
     "output_type": "display_data"
    }
   ],
   "source": [
    "\n",
    "# Plot cost function over iterations\n",
    "plt.figure()\n",
    "plt.plot(iteration_history, cost_history)\n",
    "plt.xlabel('Number of Iterations')\n",
    "plt.ylabel('Cost Function')\n",
    "plt.title('Number of Iterations vs Cost Function')\n",
    "plt.show()"
   ]
  },
  {
   "cell_type": "code",
   "execution_count": 417,
   "id": "2336a511",
   "metadata": {},
   "outputs": [],
   "source": [
    "\n",
    "prediction=forward_propagation(mat[\"X\"],thataf1,thetaf2,1)"
   ]
  },
  {
   "cell_type": "code",
   "execution_count": 418,
   "id": "052e9049",
   "metadata": {},
   "outputs": [],
   "source": [
    "\n",
    "prediction = (prediction >= 0.5).astype(int)"
   ]
  },
  {
   "cell_type": "code",
   "execution_count": 419,
   "id": "e49c3904",
   "metadata": {},
   "outputs": [
    {
     "name": "stdout",
     "output_type": "stream",
     "text": [
      "Percentage of elements that are correct: 96.06%\n"
     ]
    }
   ],
   "source": [
    "\n",
    "# Compare the matrices element-wise and create a boolean matrix indicating differences\n",
    "differences = prediction != Y\n",
    "\n",
    "# Calculate the percentage of differences\n",
    "percentage_wrong = (np.count_nonzero(differences) / differences.size) * 100\n",
    "percentage_correct = 100 - percentage_wrong\n",
    "\n",
    "print(\"Percentage of elements that are correct: {:.2f}%\".format(percentage_correct))"
   ]
  },
  {
   "cell_type": "code",
   "execution_count": null,
   "id": "d50c54f5",
   "metadata": {},
   "outputs": [],
   "source": []
  }
 ],
 "metadata": {
  "kernelspec": {
   "display_name": "Python 3 (ipykernel)",
   "language": "python",
   "name": "python3"
  },
  "language_info": {
   "codemirror_mode": {
    "name": "ipython",
    "version": 3
   },
   "file_extension": ".py",
   "mimetype": "text/x-python",
   "name": "python",
   "nbconvert_exporter": "python",
   "pygments_lexer": "ipython3",
   "version": "3.11.0"
  }
 },
 "nbformat": 4,
 "nbformat_minor": 5
}
